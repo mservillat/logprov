{
 "cells": [
  {
   "cell_type": "markdown",
   "metadata": {},
   "source": [
    "# Using logprov on a test library"
   ]
  },
  {
   "cell_type": "markdown",
   "metadata": {},
   "source": [
    "#### Introduction\n",
    "\n",
    "This notebook shows how logpov can be sude to capture provenance form an existing library, simply by adding wrappers to the functions and classes of the library.\n",
    "\n",
    "#### Installation\n",
    "\n",
    "Python package:\n",
    "https://github.com/mservillat/logprov\n",
    "\n",
    "```bash\n",
    "pip install logprov\n",
    "```\n"
   ]
  },
  {
   "cell_type": "markdown",
   "metadata": {},
   "source": [
    "### Configuration of logprov.capture"
   ]
  },
  {
   "cell_type": "code",
   "execution_count": 1,
   "metadata": {},
   "outputs": [],
   "source": [
    "import logprov.capture"
   ]
  },
  {
   "cell_type": "code",
   "execution_count": 2,
   "metadata": {},
   "outputs": [],
   "source": [
    "provconfig = {\n",
    "    'capture': True,\n",
    "    'hash_type': 'sha1',\n",
    "    'log_filename': 'prov_test.log',\n",
    "    'log_args': True,\n",
    "    'log_args_as_entities': True,\n",
    "    'log_kwargs': True,\n",
    "    'log_returned_result': True,\n",
    "}"
   ]
  },
  {
   "cell_type": "markdown",
   "metadata": {},
   "source": [
    "### Description of the activities in the test library"
   ]
  },
  {
   "cell_type": "markdown",
   "metadata": {},
   "source": [
    "We first write the definition of the functions and methods that will be traced by logprov. This corresponds to the Description classes of the IVOA Provenance Data Model, written in YAML.\n",
    "\n",
    "In addition, we define where the id/location/value of the entities are located (which variables)."
   ]
  },
  {
   "cell_type": "code",
   "execution_count": 3,
   "metadata": {},
   "outputs": [],
   "source": [
    "import yaml"
   ]
  },
  {
   "cell_type": "code",
   "execution_count": 4,
   "metadata": {},
   "outputs": [],
   "source": [
    "definitions_yaml = \"\"\"\n",
    "activity_descriptions:\n",
    "    regular_function:\n",
    "        description: \"Set the value of global_var with the value given as an argument\"\n",
    "        parameters:\n",
    "            - value: kwargs.value\n",
    "        generation:\n",
    "            - role: global_var\n",
    "              entity_description: MyObject\n",
    "              value: global_var\n",
    "    set_var1:\n",
    "        description: \"Set the value of var1 with the value given as an argument\"\n",
    "        parameters:\n",
    "            - value: kwargs.value\n",
    "        generation:\n",
    "            - role: var1\n",
    "              entity_description: MyObject\n",
    "              value: var1\n",
    "    set_var2:\n",
    "        description: \"Set the value of var2, using var1, global_var, local_var and the value given as an argument\"\n",
    "        parameters:\n",
    "            - value: kwargs.add_to_value\n",
    "        usage:\n",
    "            - role: var1\n",
    "              entity_description: MyObject\n",
    "              value: var1\n",
    "            - role: global_var\n",
    "              entity_description: MyObject\n",
    "              value: global_var\n",
    "            - role: local_var\n",
    "              entity_description: MyObject\n",
    "              value: local_var\n",
    "        generation:\n",
    "            - role: var2\n",
    "              entity_description: MyObject\n",
    "              value: var2\n",
    "    write_file:\n",
    "        description: \"Write variables to a file\"\n",
    "        parameters:\n",
    "            - value: kwargs.filename\n",
    "        usage:\n",
    "            - role: var1\n",
    "              entity_description: MyObject\n",
    "              value: var1\n",
    "            - role: var2\n",
    "              entity_description: MyObject\n",
    "              value: var2\n",
    "        generation:\n",
    "            - role: text file\n",
    "              entity_description: File\n",
    "              location: kwargs.filename\n",
    "              namespace: \"file\"\n",
    "    read_file:\n",
    "        description: \"Set variables from a file\"\n",
    "        parameters:\n",
    "            - value: kwargs.filename\n",
    "        usage:\n",
    "            - role: text file\n",
    "              entity_description: File\n",
    "              location: kwargs.filename\n",
    "              namespace: \"file\"\n",
    "        generation:\n",
    "            - role: var1\n",
    "              entity_description: MyObject\n",
    "              value: var1\n",
    "            - role: var2\n",
    "              entity_description: MyObject\n",
    "              value: var2\n",
    "entity_descriptions:\n",
    "    MyObject:\n",
    "        description: \"A Python variable in memory\"\n",
    "        type: PythonObject\n",
    "    File:\n",
    "        description: \"A File on the disk\"\n",
    "        type: File\n",
    "agents:\n",
    "\"\"\""
   ]
  },
  {
   "cell_type": "code",
   "execution_count": 5,
   "metadata": {},
   "outputs": [],
   "source": [
    "definitions = yaml.safe_load(definitions_yaml)\n",
    "prov_capture = logprov.ProvCapture(definitions=definitions, config=provconfig)\n",
    "#prov_capture = logprov.ProvCapture(config=provconfig)\n",
    "prov_capture.traced_variables = {}\n",
    "prov_capture.logger.setLevel(\"DEBUG\")"
   ]
  },
  {
   "cell_type": "markdown",
   "metadata": {},
   "source": [
    "### Defining the test library functions and classes"
   ]
  },
  {
   "cell_type": "code",
   "execution_count": 6,
   "metadata": {},
   "outputs": [],
   "source": [
    "# MyObject is a Python object that contains a value\n",
    "class MyObject(object):\n",
    "    value = 0\n",
    "    def __repr__(self):\n",
    "        return str(self.value)"
   ]
  },
  {
   "cell_type": "code",
   "execution_count": 7,
   "metadata": {},
   "outputs": [],
   "source": [
    "# We first define a regular function and add a wrapper to trace it\n",
    "@prov_capture.trace\n",
    "def regular_function(value=100):\n",
    "    print(f\"regular_function(value={value})\")\n",
    "    global_var.value = value\n",
    "    return global_var"
   ]
  },
  {
   "cell_type": "code",
   "execution_count": 8,
   "metadata": {},
   "outputs": [],
   "source": [
    "# We then define a class that has several methods\n",
    "@prov_capture.trace_methods\n",
    "class MyClass(object):\n",
    "\n",
    "    # initialise 2 variables with instances of MyObject\n",
    "    def __init__(self):\n",
    "        print(f\"Class1.__init__()\")\n",
    "        self.var1 = MyObject()\n",
    "        self.var2 = MyObject()\n",
    "\n",
    "    def __repr__(self):\n",
    "        return \"Class1 instance\"\n",
    "\n",
    "    # Set the value of var1 with the value given as an argument\n",
    "    def set_var1(self, value=0):\n",
    "        self.var1.value = value\n",
    "        print(f\"set_var1(value={value})\")\n",
    "        return self.var1\n",
    "    \n",
    "    # Same as above, but the method is not described in the definition\n",
    "    def set_var1_untraced(self, value=0):\n",
    "        self.var1.value = value\n",
    "        print(f\"set_var1_untraced(value={value})\")\n",
    "        return self.var1\n",
    "\n",
    "    # Set the value of var2, using var1 and the global variable global_var\n",
    "    def set_var2(self, v1, gv, add_to_value=0):\n",
    "        local_var = MyObject()\n",
    "        local_var.value = 10\n",
    "        self.var2.value = self.var1.value + local_var.value + global_var.value + add_to_value\n",
    "        print(f\"set_var2({add_to_value})\")\n",
    "        return self.var2\n",
    "\n",
    "    # Write variables to a file\n",
    "    def write_file(self, v1, v2, filename=\"prov_test.txt\"):\n",
    "        print(f\"write_file(filename={filename})\")\n",
    "        with open(filename, \"w\") as f:\n",
    "            f.write(f\"A={self.var1} B={self.var2}\")\n",
    "\n",
    "    # Set variables from a file\n",
    "    def read_file(self, filename=\"prov_test.txt\"):\n",
    "        print(f\"read_file(filename={filename})\")\n",
    "        with open(filename, \"r\") as f:\n",
    "            line = f.read()\n",
    "        for item in line.split(\" \"):\n",
    "            name, value = item.split(\"=\")\n",
    "            if name == \"A\":\n",
    "                self.var1.value = int(value)\n",
    "            if name == \"B\":\n",
    "                self.var2.value = int(value)\n"
   ]
  },
  {
   "cell_type": "markdown",
   "metadata": {},
   "source": [
    "### Execute a sequence of activities"
   ]
  },
  {
   "cell_type": "code",
   "execution_count": 9,
   "metadata": {},
   "outputs": [],
   "source": [
    "# An instance of MyObject is created in a global variable\n",
    "global_var = MyObject()\n",
    "global_var.value = 100"
   ]
  },
  {
   "cell_type": "code",
   "execution_count": 10,
   "metadata": {},
   "outputs": [
    {
     "name": "stdout",
     "output_type": "stream",
     "text": [
      "-- Start of sequence --\n",
      "Class1.__init__()\n",
      "set_var1(value=1)\n",
      "-- End of sequence --\n",
      "0.026394 seconds\n"
     ]
    }
   ],
   "source": [
    "import datetime\n",
    "prov_capture.traced_variables = {}\n",
    "start = datetime.datetime.now()\n",
    "print(\"-- Start of sequence --\")\n",
    "#regular_function()\n",
    "c1 = MyClass()\n",
    "c1.set_var1(value=1)\n",
    "#c1.set_var1(value=2)\n",
    "#c1.set_var1_untraced(value=1)\n",
    "#c1.var1.value = 5\n",
    "#c1.set_var2(c1.var1, global_var)\n",
    "#c1.set_var1()\n",
    "#c1.set_var2(c1.var1, global_var, add_to_value=2)\n",
    "#c1.write_file(c1.var1, c1.var2, filename=\"prov_test1.txt\")\n",
    "#copyfile(\"prov_test1.txt\", \"prov_test2.txt\")\n",
    "#c1.read_file(filename=\"prov_test2.txt\")\n",
    "#c1.read_file(filename=\"prov_test1.txt\")\n",
    "#c1.set_var2(c1.var1, global_var, add_to_value=2)\n",
    "end = datetime.datetime.now()\n",
    "print(\"-- End of sequence --\")\n",
    "diff = end - start\n",
    "print(diff.total_seconds(), 'seconds')"
   ]
  },
  {
   "cell_type": "markdown",
   "metadata": {},
   "source": [
    "### Show provenance graph"
   ]
  },
  {
   "cell_type": "code",
   "execution_count": 11,
   "metadata": {},
   "outputs": [],
   "source": [
    "from logprov.io import read_prov, provlist2provdoc, provdoc2svg\n",
    "from IPython.core.display import SVG"
   ]
  },
  {
   "cell_type": "code",
   "execution_count": 12,
   "metadata": {},
   "outputs": [],
   "source": [
    "logname = provconfig['log_filename']\n",
    "def show_prov(start=None, end=None):\n",
    "    provlist = read_prov(logname=logname, start=start.isoformat(), end=end.isoformat())\n",
    "    provdoc = provlist2provdoc(provlist)\n",
    "    provdoc2svg(provdoc, logname + '.svg')"
   ]
  },
  {
   "cell_type": "code",
   "execution_count": 13,
   "metadata": {},
   "outputs": [
    {
     "data": {
      "image/svg+xml": [
       "<svg height=\"460pt\" viewBox=\"0.00 0.00 892.14 460.00\" width=\"892pt\" xmlns=\"http://www.w3.org/2000/svg\" xmlns:xlink=\"http://www.w3.org/1999/xlink\">\n",
       "<g class=\"graph\" id=\"graph0\" transform=\"scale(1 1) rotate(0) translate(4 456)\">\n",
       "<title>G</title>\n",
       "<polygon fill=\"white\" points=\"-4,4 -4,-456 888.14,-456 888.14,4 -4,4\" stroke=\"transparent\"/>\n",
       "<g class=\"cluster\" id=\"clust1\">\n",
       "<title>cluster_c1</title>\n",
       "<g id=\"a_clust1\"><a xlink:href=\"param:#configuration#ba26ef\">\n",
       "<polygon fill=\"none\" points=\"120,-239 120,-387 378,-387 378,-239 120,-239\" stroke=\"black\"/>\n",
       "</a>\n",
       "</g>\n",
       "</g>\n",
       "<!-- n1 -->\n",
       "<g class=\"node\" id=\"node1\">\n",
       "<title>n1</title>\n",
       "<g id=\"a_node1\"><a xlink:href=\"session:9223363247832386016\" xlink:title=\"LogProvSession&lt;br /&gt;&lt;font color=&quot;#333333&quot; point-size=&quot;10&quot;&gt;session:9223363247832386016&lt;/font&gt;\">\n",
       "<ellipse cx=\"159\" cy=\"-169\" fill=\"#fffc87\" rx=\"105.22\" ry=\"22.76\" stroke=\"#808080\"/>\n",
       "<text font-family=\"Times,serif\" font-size=\"14.00\" text-anchor=\"start\" x=\"114.5\" y=\"-170.8\">LogProvSession</text>\n",
       "<text fill=\"#333333\" font-family=\"Times,serif\" font-size=\"10.00\" text-anchor=\"start\" x=\"92.5\" y=\"-160\">session:9223363247832386016</text>\n",
       "</a>\n",
       "</g>\n",
       "</g>\n",
       "<!-- ann1 -->\n",
       "<g class=\"node\" id=\"node2\">\n",
       "<title>ann1</title>\n",
       "<polygon fill=\"none\" points=\"312,-101 0,-101 0,0 318,0 318,-95 312,-101\" stroke=\"gray\"/>\n",
       "<polyline fill=\"none\" points=\"312,-101 312,-95 \" stroke=\"gray\"/>\n",
       "<polyline fill=\"none\" points=\"318,-95 312,-95 \" stroke=\"gray\"/>\n",
       "<g id=\"a_node2_0\"><a xlink:href=\"http://www.w3.org/ns/prov#label\" xlink:title=\"&lt;TABLE&gt;\">\n",
       "<text font-family=\"Times,serif\" font-size=\"10.00\" text-anchor=\"start\" x=\"10\" y=\"-86.5\">prov:label</text>\n",
       "</a>\n",
       "</g>\n",
       "<text font-family=\"Times,serif\" font-size=\"10.00\" text-anchor=\"start\" x=\"105\" y=\"-86.5\">LogProvSession</text>\n",
       "<g id=\"a_node2_1\"><a xlink:href=\"http://www.w3.org/ns/prov#type\" xlink:title=\"&lt;TABLE&gt;\">\n",
       "<text font-family=\"Times,serif\" font-size=\"10.00\" text-anchor=\"start\" x=\"10\" y=\"-73.5\">prov:type</text>\n",
       "</a>\n",
       "</g>\n",
       "<text font-family=\"Times,serif\" font-size=\"10.00\" text-anchor=\"start\" x=\"105\" y=\"-73.5\">LogProvSession</text>\n",
       "<g id=\"a_node2_2\"><a xlink:href=\"param:class\" xlink:title=\"&lt;TABLE&gt;\">\n",
       "<text font-family=\"Times,serif\" font-size=\"10.00\" text-anchor=\"start\" x=\"10\" y=\"-60.5\">class</text>\n",
       "</a>\n",
       "</g>\n",
       "<text font-family=\"Times,serif\" font-size=\"10.00\" text-anchor=\"start\" x=\"105\" y=\"-60.5\">dict</text>\n",
       "<g id=\"a_node2_3\"><a xlink:href=\"param:definitions\" xlink:title=\"&lt;TABLE&gt;\">\n",
       "<text font-family=\"Times,serif\" font-size=\"10.00\" text-anchor=\"start\" x=\"10\" y=\"-47.5\">definitions</text>\n",
       "</a>\n",
       "</g>\n",
       "<text font-family=\"Times,serif\" font-size=\"10.00\" text-anchor=\"start\" x=\"105\" y=\"-47.5\">{'activity_descriptions': {'regular_function': {'d</text>\n",
       "<g id=\"a_node2_4\"><a xlink:href=\"param:module\" xlink:title=\"&lt;TABLE&gt;\">\n",
       "<text font-family=\"Times,serif\" font-size=\"10.00\" text-anchor=\"start\" x=\"10\" y=\"-34.5\">module</text>\n",
       "</a>\n",
       "</g>\n",
       "<text font-family=\"Times,serif\" font-size=\"10.00\" text-anchor=\"start\" x=\"105\" y=\"-34.5\">builtins</text>\n",
       "<g id=\"a_node2_5\"><a xlink:href=\"http://www.w3.org/ns/prov#generatedAtTime\" xlink:title=\"&lt;TABLE&gt;\">\n",
       "<text font-family=\"Times,serif\" font-size=\"10.00\" text-anchor=\"start\" x=\"10\" y=\"-21.5\">prov:generatedAtTime</text>\n",
       "</a>\n",
       "</g>\n",
       "<text font-family=\"Times,serif\" font-size=\"10.00\" text-anchor=\"start\" x=\"105\" y=\"-21.5\">2022-04-13T10:16:24.802688</text>\n",
       "<g id=\"a_node2_6\"><a xlink:href=\"param:system\" xlink:title=\"&lt;TABLE&gt;\">\n",
       "<text font-family=\"Times,serif\" font-size=\"10.00\" text-anchor=\"start\" x=\"10\" y=\"-8.5\">system</text>\n",
       "</a>\n",
       "</g>\n",
       "<text font-family=\"Times,serif\" font-size=\"10.00\" text-anchor=\"start\" x=\"105\" y=\"-8.5\">{'executable': '/Users/mservillat/anaconda/envs/lo</text>\n",
       "</g>\n",
       "<!-- ann1&#45;&gt;n1 -->\n",
       "<g class=\"edge\" id=\"edge1\">\n",
       "<title>ann1-&gt;n1</title>\n",
       "<path d=\"M159,-101.24C159,-116.95 159,-133.5 159,-146.2\" fill=\"none\" stroke=\"gray\" stroke-dasharray=\"5,2\"/>\n",
       "</g>\n",
       "<!-- n2 -->\n",
       "<g class=\"node\" id=\"node3\">\n",
       "<title>n2</title>\n",
       "<g id=\"a_node3\"><a xlink:href=\"session:9223363247832386016_ba26ef\" xlink:title=\"set_var1&lt;br /&gt;&lt;font color=&quot;#333333&quot; point-size=&quot;10&quot;&gt;session:9223363247832386016_ba26ef&lt;/font&gt;\">\n",
       "<polygon fill=\"#9fb1fc\" points=\"568,-289.5 386,-289.5 386,-253.5 568,-253.5 568,-289.5\" stroke=\"#0000ff\"/>\n",
       "<text font-family=\"Times,serif\" font-size=\"14.00\" text-anchor=\"start\" x=\"454\" y=\"-273.3\">set_var1</text>\n",
       "<text fill=\"#333333\" font-family=\"Times,serif\" font-size=\"10.00\" text-anchor=\"start\" x=\"394\" y=\"-262.5\">session:9223363247832386016_ba26ef</text>\n",
       "</a>\n",
       "</g>\n",
       "</g>\n",
       "<!-- n5 -->\n",
       "<g class=\"node\" id=\"node8\">\n",
       "<title>n5</title>\n",
       "<g id=\"a_node8\"><a xlink:href=\"session:9223363247832386016_ba26ef_kwargs.value\" xlink:title=\"kwargs.value = 1&lt;br /&gt;&lt;font color=&quot;#333333&quot; point-size=&quot;10&quot;&gt;session:9223363247832386016_ba26ef_kwargs.value&lt;/font&gt;\">\n",
       "<polygon fill=\"#4cdd4c\" points=\"363.5,-379 128.5,-379 128.5,-343 369.5,-343 369.5,-373 363.5,-379\" stroke=\"#808080\"/>\n",
       "<polyline fill=\"none\" points=\"363.5,-379 363.5,-373 \" stroke=\"#808080\"/>\n",
       "<polyline fill=\"none\" points=\"369.5,-373 363.5,-373 \" stroke=\"#808080\"/>\n",
       "<text font-family=\"Times,serif\" font-size=\"14.00\" text-anchor=\"start\" x=\"201.5\" y=\"-362.8\">kwargs.value = 1</text>\n",
       "<text fill=\"#333333\" font-family=\"Times,serif\" font-size=\"10.00\" text-anchor=\"start\" x=\"136.5\" y=\"-352\">session:9223363247832386016_ba26ef_kwargs.value</text>\n",
       "</a>\n",
       "</g>\n",
       "</g>\n",
       "<!-- n2&#45;&gt;n5 -->\n",
       "<g class=\"edge\" id=\"edge7\">\n",
       "<title>n2-&gt;n5</title>\n",
       "<path d=\"M432.5,-289.58C395.46,-303.79 342.6,-324.08 303.12,-339.23\" fill=\"none\" stroke=\"#57b857\"/>\n",
       "<polygon fill=\"#57b857\" points=\"301.47,-336.11 293.39,-342.96 303.98,-342.65 301.47,-336.11\" stroke=\"#57b857\"/>\n",
       "<text fill=\"#57b857\" font-family=\"Times,serif\" font-size=\"10.00\" text-anchor=\"middle\" x=\"400\" y=\"-317\">wasConfiguredBy</text>\n",
       "</g>\n",
       "<!-- b1 -->\n",
       "<g class=\"node\" id=\"node10\">\n",
       "<title>b1</title>\n",
       "<ellipse cx=\"477\" cy=\"-361\" fill=\"gray\" rx=\"1.8\" ry=\"1.8\" stroke=\"gray\"/>\n",
       "</g>\n",
       "<!-- n2&#45;&gt;b1 -->\n",
       "<g class=\"edge\" id=\"edge5\">\n",
       "<title>n2-&gt;b1</title>\n",
       "<path d=\"M477,-289.79C477,-312.9 477,-351.79 477,-358.87\" fill=\"none\" stroke=\"#fed37f\"/>\n",
       "<text font-family=\"Times,serif\" font-size=\"10.00\" text-anchor=\"middle\" x=\"517.5\" y=\"-317\">wasAssociatedWith</text>\n",
       "</g>\n",
       "<!-- ann2 -->\n",
       "<g class=\"node\" id=\"node4\">\n",
       "<title>ann2</title>\n",
       "<polygon fill=\"none\" points=\"494,-200 282,-200 282,-138 500,-138 500,-194 494,-200\" stroke=\"gray\"/>\n",
       "<polyline fill=\"none\" points=\"494,-200 494,-194 \" stroke=\"gray\"/>\n",
       "<polyline fill=\"none\" points=\"500,-194 494,-194 \" stroke=\"gray\"/>\n",
       "<g id=\"a_node4_7\"><a xlink:href=\"http://www.ivoa.net/documents/ProvenanceDM/index.html#startTime\" xlink:title=\"&lt;TABLE&gt;\">\n",
       "<text font-family=\"Times,serif\" font-size=\"10.00\" text-anchor=\"start\" x=\"292\" y=\"-186\">voprov:startTime</text>\n",
       "</a>\n",
       "</g>\n",
       "<text font-family=\"Times,serif\" font-size=\"10.00\" text-anchor=\"start\" x=\"364\" y=\"-186\">2022-04-13T10:16:24.802688</text>\n",
       "<g id=\"a_node4_8\"><a xlink:href=\"http://www.ivoa.net/documents/ProvenanceDM/index.html#endTime\" xlink:title=\"&lt;TABLE&gt;\">\n",
       "<text font-family=\"Times,serif\" font-size=\"10.00\" text-anchor=\"start\" x=\"292\" y=\"-173\">voprov:endTime</text>\n",
       "</a>\n",
       "</g>\n",
       "<text font-family=\"Times,serif\" font-size=\"10.00\" text-anchor=\"start\" x=\"364\" y=\"-173\">2022-04-13T10:16:24.802789</text>\n",
       "<g id=\"a_node4_9\"><a xlink:href=\"http://www.w3.org/ns/prov#label\" xlink:title=\"&lt;TABLE&gt;\">\n",
       "<text font-family=\"Times,serif\" font-size=\"10.00\" text-anchor=\"start\" x=\"292\" y=\"-160\">prov:label</text>\n",
       "</a>\n",
       "</g>\n",
       "<text font-family=\"Times,serif\" font-size=\"10.00\" text-anchor=\"start\" x=\"364\" y=\"-160\">set_var1</text>\n",
       "<g id=\"a_node4_10\"><a xlink:href=\"param:in_session\" xlink:title=\"&lt;TABLE&gt;\">\n",
       "<text font-family=\"Times,serif\" font-size=\"10.00\" text-anchor=\"start\" x=\"292\" y=\"-147\">in_session</text>\n",
       "</a>\n",
       "</g>\n",
       "<text font-family=\"Times,serif\" font-size=\"10.00\" text-anchor=\"start\" x=\"364\" y=\"-147\">9223363247832386016</text>\n",
       "</g>\n",
       "<!-- ann2&#45;&gt;n2 -->\n",
       "<g class=\"edge\" id=\"edge2\">\n",
       "<title>ann2-&gt;n2</title>\n",
       "<path d=\"M416.8,-200.15C431.65,-217.5 449.76,-238.67 462.22,-253.23\" fill=\"none\" stroke=\"gray\" stroke-dasharray=\"5,2\"/>\n",
       "</g>\n",
       "<!-- n3 -->\n",
       "<g class=\"node\" id=\"node5\">\n",
       "<title>n3</title>\n",
       "<g id=\"a_node5\"><a xlink:href=\"session:mservillat\" xlink:title=\"session:mservillat\">\n",
       "<polygon fill=\"#fed37f\" points=\"568.67,-439.56 477,-452 385.33,-439.56 385.42,-419.44 568.58,-419.44 568.67,-439.56\" stroke=\"black\"/>\n",
       "<text font-family=\"Times,serif\" font-size=\"14.00\" text-anchor=\"middle\" x=\"477\" y=\"-430.3\">session:mservillat</text>\n",
       "</a>\n",
       "</g>\n",
       "</g>\n",
       "<!-- n4 -->\n",
       "<g class=\"node\" id=\"node6\">\n",
       "<title>n4</title>\n",
       "<g id=\"a_node6\"><a xlink:href=\"session:9223363247832386016_74342747073786684950\" xlink:title=\"MyObject in var1&lt;br /&gt;&lt;font color=&quot;#333333&quot; point-size=&quot;10&quot;&gt;session:9223363247832386016_74342747073786684950&lt;/font&gt;\">\n",
       "<ellipse cx=\"701\" cy=\"-169\" fill=\"#fffc87\" rx=\"183.28\" ry=\"22.76\" stroke=\"#808080\"/>\n",
       "<text font-family=\"Times,serif\" font-size=\"14.00\" text-anchor=\"start\" x=\"652\" y=\"-170.8\">MyObject in var1</text>\n",
       "<text fill=\"#333333\" font-family=\"Times,serif\" font-size=\"10.00\" text-anchor=\"start\" x=\"579.5\" y=\"-160\">session:9223363247832386016_74342747073786684950</text>\n",
       "</a>\n",
       "</g>\n",
       "</g>\n",
       "<!-- n4&#45;&gt;n2 -->\n",
       "<g class=\"edge\" id=\"edge8\">\n",
       "<title>n4-&gt;n2</title>\n",
       "<path d=\"M654.31,-190.95C616.25,-208.02 562.72,-232.04 524.46,-249.21\" fill=\"none\" stroke=\"darkgreen\"/>\n",
       "<polygon fill=\"darkgreen\" points=\"522.77,-246.13 515.07,-253.42 525.63,-252.52 522.77,-246.13\" stroke=\"darkgreen\"/>\n",
       "<text fill=\"darkgreen\" font-family=\"Times,serif\" font-size=\"10.00\" text-anchor=\"middle\" x=\"624\" y=\"-221\">wasGeneratedBy</text>\n",
       "</g>\n",
       "<!-- ann3 -->\n",
       "<g class=\"node\" id=\"node7\">\n",
       "<title>ann3</title>\n",
       "<polygon fill=\"none\" points=\"796.5,-88 599.5,-88 599.5,-13 802.5,-13 802.5,-82 796.5,-88\" stroke=\"gray\"/>\n",
       "<polyline fill=\"none\" points=\"796.5,-88 796.5,-82 \" stroke=\"gray\"/>\n",
       "<polyline fill=\"none\" points=\"802.5,-82 796.5,-82 \" stroke=\"gray\"/>\n",
       "<g id=\"a_node7_11\"><a xlink:href=\"http://www.w3.org/ns/prov#label\" xlink:title=\"&lt;TABLE&gt;\">\n",
       "<text font-family=\"Times,serif\" font-size=\"10.00\" text-anchor=\"start\" x=\"610\" y=\"-73.5\">prov:label</text>\n",
       "</a>\n",
       "</g>\n",
       "<text font-family=\"Times,serif\" font-size=\"10.00\" text-anchor=\"start\" x=\"720\" y=\"-73.5\">MyObject in var1</text>\n",
       "<g id=\"a_node7_12\"><a xlink:href=\"http://www.w3.org/ns/prov#location\" xlink:title=\"&lt;TABLE&gt;\">\n",
       "<text font-family=\"Times,serif\" font-size=\"10.00\" text-anchor=\"start\" x=\"610\" y=\"-60.5\">prov:location</text>\n",
       "</a>\n",
       "</g>\n",
       "<text font-family=\"Times,serif\" font-size=\"10.00\" text-anchor=\"start\" x=\"720\" y=\"-60.5\">var1</text>\n",
       "<g id=\"a_node7_13\"><a xlink:href=\"http://www.w3.org/ns/prov#type\" xlink:title=\"&lt;TABLE&gt;\">\n",
       "<text font-family=\"Times,serif\" font-size=\"10.00\" text-anchor=\"start\" x=\"610\" y=\"-47.5\">prov:type</text>\n",
       "</a>\n",
       "</g>\n",
       "<text font-family=\"Times,serif\" font-size=\"10.00\" text-anchor=\"start\" x=\"720\" y=\"-47.5\">PythonObject</text>\n",
       "<g id=\"a_node7_14\"><a xlink:href=\"http://www.w3.org/ns/prov#value\" xlink:title=\"&lt;TABLE&gt;\">\n",
       "<text font-family=\"Times,serif\" font-size=\"10.00\" text-anchor=\"start\" x=\"610\" y=\"-34.5\">prov:value</text>\n",
       "</a>\n",
       "</g>\n",
       "<text font-family=\"Times,serif\" font-size=\"10.00\" text-anchor=\"start\" x=\"720\" y=\"-34.5\">1</text>\n",
       "<g id=\"a_node7_15\"><a xlink:href=\"http://www.ivoa.net/documents/ProvenanceDM/index.html#entity_description\" xlink:title=\"&lt;TABLE&gt;\">\n",
       "<text font-family=\"Times,serif\" font-size=\"10.00\" text-anchor=\"start\" x=\"610\" y=\"-21.5\">voprov:entity_description</text>\n",
       "</a>\n",
       "</g>\n",
       "<text font-family=\"Times,serif\" font-size=\"10.00\" text-anchor=\"start\" x=\"720\" y=\"-21.5\">MyObject</text>\n",
       "</g>\n",
       "<!-- ann3&#45;&gt;n4 -->\n",
       "<g class=\"edge\" id=\"edge3\">\n",
       "<title>ann3-&gt;n4</title>\n",
       "<path d=\"M701,-88.04C701,-107.13 701,-129.84 701,-146.17\" fill=\"none\" stroke=\"gray\" stroke-dasharray=\"5,2\"/>\n",
       "</g>\n",
       "<!-- ann4 -->\n",
       "<g class=\"node\" id=\"node9\">\n",
       "<title>ann4</title>\n",
       "<polygon fill=\"none\" points=\"316.5,-296 175.5,-296 175.5,-247 322.5,-247 322.5,-290 316.5,-296\" stroke=\"gray\"/>\n",
       "<polyline fill=\"none\" points=\"316.5,-296 316.5,-290 \" stroke=\"gray\"/>\n",
       "<polyline fill=\"none\" points=\"322.5,-290 316.5,-290 \" stroke=\"gray\"/>\n",
       "<g id=\"a_node9_16\"><a xlink:href=\"http://www.ivoa.net/documents/ProvenanceDM/index.html#name\" xlink:title=\"&lt;TABLE&gt;\">\n",
       "<text font-family=\"Times,serif\" font-size=\"10.00\" text-anchor=\"start\" x=\"186\" y=\"-281.5\">voprov:name</text>\n",
       "</a>\n",
       "</g>\n",
       "<text font-family=\"Times,serif\" font-size=\"10.00\" text-anchor=\"start\" x=\"243\" y=\"-281.5\">kwargs.value</text>\n",
       "<g id=\"a_node9_17\"><a xlink:href=\"http://www.ivoa.net/documents/ProvenanceDM/index.html#value\" xlink:title=\"&lt;TABLE&gt;\">\n",
       "<text font-family=\"Times,serif\" font-size=\"10.00\" text-anchor=\"start\" x=\"186\" y=\"-268.5\">voprov:value</text>\n",
       "</a>\n",
       "</g>\n",
       "<text font-family=\"Times,serif\" font-size=\"10.00\" text-anchor=\"start\" x=\"243\" y=\"-268.5\">1</text>\n",
       "<g id=\"a_node9_18\"><a xlink:href=\"http://www.w3.org/ns/prov#label\" xlink:title=\"&lt;TABLE&gt;\">\n",
       "<text font-family=\"Times,serif\" font-size=\"10.00\" text-anchor=\"start\" x=\"186\" y=\"-255.5\">prov:label</text>\n",
       "</a>\n",
       "</g>\n",
       "<text font-family=\"Times,serif\" font-size=\"10.00\" text-anchor=\"start\" x=\"243\" y=\"-255.5\">kwargs.value = 1</text>\n",
       "</g>\n",
       "<!-- ann4&#45;&gt;n5 -->\n",
       "<g class=\"edge\" id=\"edge4\">\n",
       "<title>ann4-&gt;n5</title>\n",
       "<path d=\"M249,-296.41C249,-311.08 249,-329.54 249,-342.78\" fill=\"none\" stroke=\"gray\" stroke-dasharray=\"5,2\"/>\n",
       "</g>\n",
       "<!-- b1&#45;&gt;n3 -->\n",
       "<g class=\"edge\" id=\"edge6\">\n",
       "<title>b1-&gt;n3</title>\n",
       "<path d=\"M477,-363C477,-368.02 477,-390.85 477,-409.1\" fill=\"none\" stroke=\"#fed37f\"/>\n",
       "<polygon fill=\"#fed37f\" points=\"473.5,-409.14 477,-419.14 480.5,-409.14 473.5,-409.14\" stroke=\"#fed37f\"/>\n",
       "</g>\n",
       "</g>\n",
       "</svg>"
      ],
      "text/plain": [
       "<IPython.core.display.SVG object>"
      ]
     },
     "execution_count": 13,
     "metadata": {},
     "output_type": "execute_result"
    }
   ],
   "source": [
    "show_prov(start, end); SVG(filename=logname + '.svg')"
   ]
  },
  {
   "cell_type": "code",
   "execution_count": 14,
   "metadata": {},
   "outputs": [
    {
     "data": {
      "text/plain": [
       "[9223363247832386016]"
      ]
     },
     "execution_count": 14,
     "metadata": {},
     "output_type": "execute_result"
    }
   ],
   "source": [
    "prov_capture.sessions"
   ]
  },
  {
   "cell_type": "code",
   "execution_count": 15,
   "metadata": {},
   "outputs": [
    {
     "data": {
      "text/plain": [
       "{'var1': 1, 'var2': 0, 'args': (Class1 instance,), 'kwargs': {'value': 1}}"
      ]
     },
     "execution_count": 15,
     "metadata": {},
     "output_type": "execute_result"
    }
   ],
   "source": [
    "c1.__dict__"
   ]
  },
  {
   "cell_type": "code",
   "execution_count": null,
   "metadata": {},
   "outputs": [],
   "source": []
  },
  {
   "cell_type": "code",
   "execution_count": null,
   "metadata": {},
   "outputs": [],
   "source": []
  }
 ],
 "metadata": {
  "kernelspec": {
   "display_name": "Python 3",
   "language": "python",
   "name": "python3"
  },
  "language_info": {
   "codemirror_mode": {
    "name": "ipython",
    "version": 3
   },
   "file_extension": ".py",
   "mimetype": "text/x-python",
   "name": "python",
   "nbconvert_exporter": "python",
   "pygments_lexer": "ipython3",
   "version": "3.7.0"
  }
 },
 "nbformat": 4,
 "nbformat_minor": 2
}
